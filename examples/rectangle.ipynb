{
  "cells": [
    {
      "cell_type": "markdown",
      "metadata": {},
      "source": [
        "# Rectangle example"
      ],
      "id": "fab7bfb8-423f-481b-9eb1-cec48da35b08"
    },
    {
      "cell_type": "code",
      "execution_count": 1,
      "metadata": {},
      "outputs": [
        {
          "output_type": "stream",
          "name": "stdout",
          "text": [
            "A DynamicObject{:rectangle}((height = 10, width = 20)) has an area of 200mm^2."
          ]
        }
      ],
      "source": [
        "using DynamicObjects\n",
        "\n",
        "\n",
        "# # @DynamicObject Rectangle(height, width) = Rectangle((height=height, width=width))\n",
        "Rectangle = DynamicObject{:rectangle}\n",
        "DynamicObject{:rectangle}(height, width; kwargs...) = Rectangle((height=height, width=width, kwargs...))\n",
        "unit(what::Rectangle) = \"mm\"\n",
        "area(what::Rectangle, unit=what.unit) = \"$(what.height * what.width)$(unit)^2\"\n",
        "\n",
        "rect = Rectangle(10, 20)\n",
        "println(\"A $(rect) has an area of $(rect.area).\")"
      ],
      "id": "18e2f668"
    }
  ],
  "nbformat": 4,
  "nbformat_minor": 5,
  "metadata": {
    "kernelspec": {
      "name": "julia-1.8",
      "display_name": "Julia 1.8.2",
      "language": "julia"
    }
  }
}